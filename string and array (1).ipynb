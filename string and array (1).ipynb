{
 "cells": [
  {
   "cell_type": "markdown",
   "metadata": {},
   "source": [
    "Q1: Finds all common letters in two strings, assuming there is no duplicate letter in a string."
   ]
  },
  {
   "cell_type": "code",
   "execution_count": 2,
   "metadata": {},
   "outputs": [
    {
     "name": "stdout",
     "output_type": "stream",
     "text": [
      "common letter: c\n"
     ]
    }
   ],
   "source": [
    "s1 = 'abc'\n",
    "s2 = 'cds'\n",
    "for c1 in s1:\n",
    "    for c2 in s2:\n",
    "        if c1 == c2:\n",
    "            print('common letter:', c1)"
   ]
  },
  {
   "cell_type": "markdown",
   "metadata": {},
   "source": [
    "Q2: Given a string with only lower-case letters, determine if it is a palindrome."
   ]
  },
  {
   "cell_type": "code",
   "execution_count": 3,
   "metadata": {},
   "outputs": [],
   "source": [
    "def isPalindrome(s):\n",
    "    left,right = 0, len(s)-1\n",
    "    while left<right:\n",
    "        if s[left] != s[right]:\n",
    "            return False\n",
    "        left +=1\n",
    "        right -= 1\n",
    "    return True"
   ]
  },
  {
   "cell_type": "code",
   "execution_count": 5,
   "metadata": {},
   "outputs": [
    {
     "data": {
      "text/plain": [
       "False"
      ]
     },
     "execution_count": 5,
     "metadata": {},
     "output_type": "execute_result"
    }
   ],
   "source": [
    "s = 'aabbaas'\n",
    "isPalindrome(s)"
   ]
  },
  {
   "cell_type": "markdown",
   "metadata": {},
   "source": [
    "Q3: Reverse string"
   ]
  },
  {
   "cell_type": "code",
   "execution_count": 7,
   "metadata": {},
   "outputs": [
    {
     "data": {
      "text/plain": [
       "'olleh'"
      ]
     },
     "execution_count": 7,
     "metadata": {},
     "output_type": "execute_result"
    }
   ],
   "source": [
    "def reverse_string(s):\n",
    "    return s[::-1]\n",
    "\n",
    "a = 'hello'\n",
    "reverse_string(a)"
   ]
  },
  {
   "cell_type": "markdown",
   "metadata": {},
   "source": [
    "Q4 Giving a string s consists of upper/lower-case alohabets and empty space character, return the length of last word in the string.\n",
    "if the last word does not exist,return 0"
   ]
  },
  {
   "cell_type": "code",
   "execution_count": 15,
   "metadata": {},
   "outputs": [],
   "source": [
    "s = 'hello world'\n",
    "def length_of_last_word(s):\n",
    "    return len(s.split()[len(s.split())-1]) if s.split() != '' else 0"
   ]
  },
  {
   "cell_type": "code",
   "execution_count": 16,
   "metadata": {},
   "outputs": [
    {
     "data": {
      "text/plain": [
       "5"
      ]
     },
     "execution_count": 16,
     "metadata": {},
     "output_type": "execute_result"
    }
   ],
   "source": [
    "length_of_last_word(s)"
   ]
  },
  {
   "cell_type": "markdown",
   "metadata": {},
   "source": [
    "Q5: Count occurance"
   ]
  },
  {
   "cell_type": "code",
   "execution_count": 17,
   "metadata": {},
   "outputs": [],
   "source": [
    "def word_to_freq(words):\n",
    "    mydic = {}\n",
    "    for word in words:\n",
    "        if word in mydic:\n",
    "            mydic[word] +=1\n",
    "        mydic[word] = 1\n",
    "    return mydic"
   ]
  },
  {
   "cell_type": "markdown",
   "metadata": {},
   "source": [
    "Q6: Most common word"
   ]
  },
  {
   "cell_type": "code",
   "execution_count": 23,
   "metadata": {},
   "outputs": [],
   "source": [
    "def most_common_words(freq):\n",
    "    values = freq.values()\n",
    "    best = max(values)\n",
    "    word = []\n",
    "    for k in freq:\n",
    "        if freq[k] == best:\n",
    "            word.append(k)\n",
    "    return word       "
   ]
  },
  {
   "cell_type": "code",
   "execution_count": 24,
   "metadata": {},
   "outputs": [
    {
     "data": {
      "text/plain": [
       "['mia']"
      ]
     },
     "execution_count": 24,
     "metadata": {},
     "output_type": "execute_result"
    }
   ],
   "source": [
    "dic = {'ma':1, 'pa':2, 'mia':3}\n",
    "most_common_words(dic)"
   ]
  },
  {
   "cell_type": "markdown",
   "metadata": {},
   "source": [
    "Q7: Combine upper case and lower case freqs\n",
    "mydic = {'a':3,'A':4,'B':2,'b':3}\n",
    "mydic = {'a':7,'b':5}"
   ]
  },
  {
   "cell_type": "code",
   "execution_count": 25,
   "metadata": {},
   "outputs": [],
   "source": [
    "new_dic = {}\n",
    "for k in new_dic.keys():\n",
    "    new_dic[key.lower] = mydic.get(k.lower(),0) + mydic.get(k.lower(),0)"
   ]
  },
  {
   "cell_type": "markdown",
   "metadata": {},
   "source": [
    "Q8: 2SUM, you may assume each input would have exactly one solution.You may not use the same element twice."
   ]
  },
  {
   "cell_type": "code",
   "execution_count": 33,
   "metadata": {},
   "outputs": [],
   "source": [
    "lst = [1,3,5,4] \n",
    "target = 6"
   ]
  },
  {
   "cell_type": "code",
   "execution_count": 42,
   "metadata": {},
   "outputs": [],
   "source": [
    "#solution1 dictionary\n",
    "def two_sum(nums, target):  \n",
    "    dic = {}\n",
    "    for i in range(len(nums)):\n",
    "        if nums[i] in dic:\n",
    "            return (dic[lst[i]],i)\n",
    "        dic[target-lst[i]] = i"
   ]
  },
  {
   "cell_type": "code",
   "execution_count": 43,
   "metadata": {},
   "outputs": [
    {
     "data": {
      "text/plain": [
       "(0, 2)"
      ]
     },
     "execution_count": 43,
     "metadata": {},
     "output_type": "execute_result"
    }
   ],
   "source": [
    "two_sum(lst, target)"
   ]
  },
  {
   "cell_type": "code",
   "execution_count": 50,
   "metadata": {},
   "outputs": [],
   "source": [
    "#solution2 two pointers\n",
    "def two_sum(nums,target):\n",
    "    left, right = 0, len(nums)-1\n",
    "    while left<right:\n",
    "        if nums[left]+nums[right]>target:\n",
    "            right -= 1\n",
    "        elif nums[left]+nums[right]<target:\n",
    "            left += 1\n",
    "        else:\n",
    "            return (left, right)"
   ]
  },
  {
   "cell_type": "code",
   "execution_count": 51,
   "metadata": {},
   "outputs": [
    {
     "data": {
      "text/plain": [
       "(0, 2)"
      ]
     },
     "execution_count": 51,
     "metadata": {},
     "output_type": "execute_result"
    }
   ],
   "source": [
    "lst = [1,3,4,6,7]\n",
    "two_sum(lst,5)"
   ]
  },
  {
   "cell_type": "markdown",
   "metadata": {},
   "source": [
    "Q9: Given an array of integers and integer k, you need to find the total number of continuous subarrays whose sum equals to k"
   ]
  },
  {
   "cell_type": "code",
   "execution_count": 52,
   "metadata": {},
   "outputs": [],
   "source": [
    "lst = [1,1,1] \n",
    "k = 2"
   ]
  },
  {
   "cell_type": "code",
   "execution_count": 55,
   "metadata": {},
   "outputs": [],
   "source": [
    "def subarray(nums,k):\n",
    "    dic = {}\n",
    "    ans = 0\n",
    "    sums = 0\n",
    "    for num in nums:\n",
    "        if sums not in dic:\n",
    "            dic[sums] = 0\n",
    "        dic[sums] += 1\n",
    "        sums += num\n",
    "        ans += dic.get(sums-k,0)\n",
    "    return ans"
   ]
  },
  {
   "cell_type": "code",
   "execution_count": 56,
   "metadata": {},
   "outputs": [
    {
     "data": {
      "text/plain": [
       "2"
      ]
     },
     "execution_count": 56,
     "metadata": {},
     "output_type": "execute_result"
    }
   ],
   "source": [
    "sub_sum(lst, k)"
   ]
  }
 ],
 "metadata": {
  "kernelspec": {
   "display_name": "Python 3",
   "language": "python",
   "name": "python3"
  },
  "language_info": {
   "codemirror_mode": {
    "name": "ipython",
    "version": 3
   },
   "file_extension": ".py",
   "mimetype": "text/x-python",
   "name": "python",
   "nbconvert_exporter": "python",
   "pygments_lexer": "ipython3",
   "version": "3.7.2"
  }
 },
 "nbformat": 4,
 "nbformat_minor": 2
}
