{
 "cells": [
  {
   "cell_type": "markdown",
   "metadata": {},
   "source": [
    "Q1 Find target number in a sorted int array. If found, return the index. If not found, return None."
   ]
  },
  {
   "cell_type": "code",
   "execution_count": 15,
   "metadata": {},
   "outputs": [],
   "source": [
    "def binary_search(nums,target):\n",
    "    left = 0\n",
    "    right = len(nums)-1\n",
    "    while left <= right:\n",
    "        mid = int((left+right)/2)\n",
    "        if nums[mid] == target:\n",
    "            return mid\n",
    "        elif nums[mid] > target:\n",
    "            right = mid-1\n",
    "        else:\n",
    "            left = mid+1\n",
    "# a = [1,3,5,7,9]\n",
    "# target = 4\n",
    "# binary_search(a,target)"
   ]
  },
  {
   "cell_type": "markdown",
   "metadata": {},
   "source": [
    "Q2 2D matrix, sorted on each row, first element of next row is larger than the last element of previous row. Now given a target number, return the position"
   ]
  },
  {
   "cell_type": "code",
   "execution_count": 43,
   "metadata": {},
   "outputs": [],
   "source": [
    "def binary_matrix_2d(matrix,target):\n",
    "    N = len(matrix)\n",
    "    M = len(matrix[0])\n",
    "    left, right = 0, N*M-1\n",
    "    while left <= right:\n",
    "        mid = (left+right)//2\n",
    "        row, col = mid//M, mid%M\n",
    "        if matrix[row][col]> target:\n",
    "            right = mid-1\n",
    "        elif matrix[row][col] < target:\n",
    "            left = mid+1\n",
    "        else:\n",
    "            return (row, col)\n",
    "# matrix = [[1,2,3],[4,5,6]]\n",
    "# binary_matrix_2d(matrix,4)"
   ]
  },
  {
   "cell_type": "markdown",
   "metadata": {},
   "source": [
    "Q3 Find an element in the array that is closest to the target number. For example nums = [1,2,5,9] target = 3"
   ]
  },
  {
   "cell_type": "code",
   "execution_count": 44,
   "metadata": {},
   "outputs": [],
   "source": [
    "def closestsearch(nums,target):\n",
    "    if len(nums) == 0:\n",
    "        return -1\n",
    "    left, right = 0, len(nums)-1\n",
    "    while left<right-1:\n",
    "        mid = (left+right)//2\n",
    "        if nums[mid]<target:\n",
    "            left = mid\n",
    "        elif nums[mid]>target:\n",
    "            right = mid\n",
    "        else:\n",
    "            return mid\n",
    "    return left if abs(target-nums[left])<abs(target-nums[right]) else right"
   ]
  },
  {
   "cell_type": "code",
   "execution_count": 45,
   "metadata": {},
   "outputs": [
    {
     "data": {
      "text/plain": [
       "1"
      ]
     },
     "execution_count": 45,
     "metadata": {},
     "output_type": "execute_result"
    }
   ],
   "source": [
    "a = [1,2,5,9]\n",
    "target = 3\n",
    "closestsearch(a,target)"
   ]
  },
  {
   "cell_type": "markdown",
   "metadata": {},
   "source": [
    "Q4 Find the index of the first occurence of an element\n",
    "nums = [1,2,3,3,5]\n",
    "target = 3\n",
    "return 2"
   ]
  },
  {
   "cell_type": "code",
   "execution_count": 46,
   "metadata": {},
   "outputs": [],
   "source": [
    "def firstOccurence(nums,target):\n",
    "    left, right = 0, len(nums)-1\n",
    "    while left < right-1:\n",
    "        mid = (left+right)//2\n",
    "        if nums[mid]>=target:\n",
    "            right = mid\n",
    "        else:\n",
    "            left = mid\n",
    "    if nums[left] == target:\n",
    "        return left\n",
    "    if nums[right] == target:\n",
    "        return right\n",
    "    return -1"
   ]
  },
  {
   "cell_type": "code",
   "execution_count": 50,
   "metadata": {},
   "outputs": [
    {
     "data": {
      "text/plain": [
       "1"
      ]
     },
     "execution_count": 50,
     "metadata": {},
     "output_type": "execute_result"
    }
   ],
   "source": [
    "nums = [1,3,3,3,3,5]\n",
    "target = 3\n",
    "firstOccurence(nums,target)"
   ]
  },
  {
   "cell_type": "markdown",
   "metadata": {},
   "source": [
    "Q5 Find the index of the first occurence of an element nums = [1,2,3,3,5] target = 3 return 3"
   ]
  },
  {
   "cell_type": "code",
   "execution_count": 53,
   "metadata": {},
   "outputs": [],
   "source": [
    "def lastOccurance(nums,target):\n",
    "    left, right = 0, len(nums)-1\n",
    "    while left<right-1:\n",
    "        mid = (left+right)//2\n",
    "        if nums[mid]>target:\n",
    "            right = mid\n",
    "        else:\n",
    "            left = mid\n",
    "    if nums[right] == target:\n",
    "        return right\n",
    "    if nums[left] == target:\n",
    "        return left\n",
    "    return -1"
   ]
  },
  {
   "cell_type": "code",
   "execution_count": 54,
   "metadata": {},
   "outputs": [
    {
     "data": {
      "text/plain": [
       "4"
      ]
     },
     "execution_count": 54,
     "metadata": {},
     "output_type": "execute_result"
    }
   ],
   "source": [
    "nums = [1,3,3,3,3,5]\n",
    "target = 3\n",
    "lastOccurance(nums,target)"
   ]
  },
  {
   "cell_type": "markdown",
   "metadata": {},
   "source": [
    "Q6: Find peak element(A peak element is an element that is greater than its two neighbors)"
   ]
  },
  {
   "cell_type": "code",
   "execution_count": 13,
   "metadata": {},
   "outputs": [],
   "source": [
    "a = [1,3,6,7,4]"
   ]
  },
  {
   "cell_type": "code",
   "execution_count": 14,
   "metadata": {},
   "outputs": [],
   "source": [
    "def find_peak(array):\n",
    "    left = 0\n",
    "    right = len(array) -1\n",
    "    while left < right-1:\n",
    "        mid = (left+right)//2\n",
    "        if array[mid]>array[mid+1] and array[mid]>array[mid-1]:\n",
    "            return mid\n",
    "        elif array[mid]<array[mid+1]:\n",
    "            left = mid+1\n",
    "        else:\n",
    "            right = mid-1\n",
    "    return left if array[left]>=array[right] else right"
   ]
  },
  {
   "cell_type": "code",
   "execution_count": 15,
   "metadata": {},
   "outputs": [
    {
     "data": {
      "text/plain": [
       "3"
      ]
     },
     "execution_count": 15,
     "metadata": {},
     "output_type": "execute_result"
    }
   ],
   "source": [
    "find_peak(a)"
   ]
  },
  {
   "cell_type": "markdown",
   "metadata": {},
   "source": [
    "Q7: Search in rotated sorted array. You may assume no duplicate exists in the array"
   ]
  },
  {
   "cell_type": "code",
   "execution_count": 24,
   "metadata": {},
   "outputs": [],
   "source": [
    "def rotated_sorted(array, target):\n",
    "    if len(array) == 0:\n",
    "        return -1\n",
    "    left = 0\n",
    "    right = len(array) -1\n",
    "    while left<right-1:\n",
    "        mid = (left+right)//2\n",
    "        if array[mid] == target:\n",
    "            return mid\n",
    "        elif array[mid]>= array[left]:\n",
    "            if array[mid] > target and target>=array[left]:\n",
    "                right = mid\n",
    "            else:\n",
    "                left = mid\n",
    "        else:\n",
    "            if array[mid] < target and target<=array[right]:\n",
    "                left = mid\n",
    "            else:\n",
    "                right = mid\n",
    "    if array[left] == target:\n",
    "        return left\n",
    "    if array[right] == target:\n",
    "        return right\n",
    "    return -1"
   ]
  },
  {
   "cell_type": "code",
   "execution_count": 25,
   "metadata": {},
   "outputs": [
    {
     "data": {
      "text/plain": [
       "4"
      ]
     },
     "execution_count": 25,
     "metadata": {},
     "output_type": "execute_result"
    }
   ],
   "source": [
    "array = [4,5,6,1,2,3]\n",
    "rotated_sorted(array, 2)"
   ]
  }
 ],
 "metadata": {
  "kernelspec": {
   "display_name": "Python 3",
   "language": "python",
   "name": "python3"
  },
  "language_info": {
   "codemirror_mode": {
    "name": "ipython",
    "version": 3
   },
   "file_extension": ".py",
   "mimetype": "text/x-python",
   "name": "python",
   "nbconvert_exporter": "python",
   "pygments_lexer": "ipython3",
   "version": "3.7.2"
  }
 },
 "nbformat": 4,
 "nbformat_minor": 2
}
