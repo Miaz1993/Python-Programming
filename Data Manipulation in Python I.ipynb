{
 "cells": [
  {
   "cell_type": "markdown",
   "metadata": {
    "colab_type": "text",
    "id": "u_-7WJlBn3uN"
   },
   "source": [
    "# Data Manipulation in Python I"
   ]
  },
  {
   "cell_type": "code",
   "execution_count": 1,
   "metadata": {
    "cellView": "both",
    "colab": {},
    "colab_type": "code",
    "id": "gb2OqLrDvSOB"
   },
   "outputs": [],
   "source": [
    "#@title import packages\n",
    "import numpy as np #numpy\n",
    "import pandas as pd #pandas"
   ]
  },
  {
   "cell_type": "code",
   "execution_count": 2,
   "metadata": {
    "cellView": "both",
    "colab": {},
    "colab_type": "code",
    "id": "vzJufYKix58j"
   },
   "outputs": [
    {
     "name": "stdout",
     "output_type": "stream",
     "text": [
      "Collecting pandasql\n",
      "  Downloading https://files.pythonhosted.org/packages/6b/c4/ee4096ffa2eeeca0c749b26f0371bd26aa5c8b611c43de99a4f86d3de0a7/pandasql-0.7.3.tar.gz\n",
      "Requirement already satisfied: numpy in /Library/Frameworks/Python.framework/Versions/3.7/lib/python3.7/site-packages (from pandasql) (1.16.2)\n",
      "Requirement already satisfied: pandas in /Library/Frameworks/Python.framework/Versions/3.7/lib/python3.7/site-packages (from pandasql) (0.24.1)\n",
      "Collecting sqlalchemy (from pandasql)\n",
      "\u001b[?25l  Downloading https://files.pythonhosted.org/packages/17/7f/35879c73859368ad19a952b69ee780aa97fc30350dabd45fb948d6a4e3ea/SQLAlchemy-1.3.12.tar.gz (6.0MB)\n",
      "\u001b[K     |████████████████████████████████| 6.0MB 556kB/s eta 0:00:01\n",
      "\u001b[?25hRequirement already satisfied: python-dateutil>=2.5.0 in /Library/Frameworks/Python.framework/Versions/3.7/lib/python3.7/site-packages (from pandas->pandasql) (2.8.0)\n",
      "Requirement already satisfied: pytz>=2011k in /Library/Frameworks/Python.framework/Versions/3.7/lib/python3.7/site-packages (from pandas->pandasql) (2018.9)\n",
      "Requirement already satisfied: six>=1.5 in /Library/Frameworks/Python.framework/Versions/3.7/lib/python3.7/site-packages (from python-dateutil>=2.5.0->pandas->pandasql) (1.12.0)\n",
      "Building wheels for collected packages: pandasql, sqlalchemy\n",
      "  Building wheel for pandasql (setup.py) ... \u001b[?25ldone\n",
      "\u001b[?25h  Stored in directory: /Users/miazhang/Library/Caches/pip/wheels/53/6c/18/b87a2e5fa8a82e9c026311de56210b8d1c01846e18a9607fc9\n",
      "  Building wheel for sqlalchemy (setup.py) ... \u001b[?25ldone\n",
      "\u001b[?25h  Stored in directory: /Users/miazhang/Library/Caches/pip/wheels/ee/33/44/0788a6e806866ae2e246d5cd841d07498a46bcb3f3c42ea5a4\n",
      "Successfully built pandasql sqlalchemy\n",
      "Installing collected packages: sqlalchemy, pandasql\n",
      "Successfully installed pandasql-0.7.3 sqlalchemy-1.3.12\n",
      "\u001b[33mWARNING: You are using pip version 19.1.1, however version 19.3.1 is available.\n",
      "You should consider upgrading via the 'pip install --upgrade pip' command.\u001b[0m\n"
     ]
    }
   ],
   "source": [
    "#@title install packages(不需要掌握)\n",
    "!pip install pandasql"
   ]
  },
  {
   "cell_type": "markdown",
   "metadata": {
    "colab_type": "text",
    "id": "NODlSrUwye-l"
   },
   "source": [
    "## Python Basics"
   ]
  },
  {
   "cell_type": "markdown",
   "metadata": {
    "colab_type": "text",
    "id": "zUuCltN003Sk"
   },
   "source": [
    "### **Numeric Types**\n"
   ]
  },
  {
   "cell_type": "code",
   "execution_count": 0,
   "metadata": {
    "colab": {},
    "colab_type": "code",
    "id": "eJ2X-QxL0zS2"
   },
   "outputs": [],
   "source": [
    "x = 2 # =>2\n",
    "print(type(x)) # class 'int'\n",
    "\n",
    "y = 1.5 # =>1.5\n",
    "print(type(y)) # class 'float'\n",
    "\n",
    "# Math\n",
    "x = x ** 3 # =>8 exponential\n",
    "print(x) \n",
    "\n",
    "x += 1 # =>9 addiction\n",
    "print(x)\n",
    "\n",
    "x %= 2 # =>1 modulo\n",
    "print(x)\n",
    "\n",
    "x += y # =>2.5\n",
    "print(x)"
   ]
  },
  {
   "cell_type": "markdown",
   "metadata": {
    "colab_type": "text",
    "id": "z8Pu3j8v2XAz"
   },
   "source": [
    "### **Boolean**"
   ]
  },
  {
   "cell_type": "code",
   "execution_count": 0,
   "metadata": {
    "colab": {},
    "colab_type": "code",
    "id": "sFWtTc7v2jxS"
   },
   "outputs": [],
   "source": [
    "t = True\n",
    "f = False\n",
    "\n",
    "print(type(t)) # class 'bool' \n",
    "print(t or f) # True\n",
    "print(t and f) # False \n",
    "print(not t) # False\n",
    "print(not f) # True\n",
    "\n",
    "print(1 or False) # (Advanced, just know it is enough)"
   ]
  },
  {
   "cell_type": "markdown",
   "metadata": {
    "colab_type": "text",
    "id": "r1HPK_4D3dRz"
   },
   "source": [
    "### **String**\n",
    "\n",
    "Strings are immutable type, which means we can't change the value once initialized."
   ]
  },
  {
   "cell_type": "code",
   "execution_count": 0,
   "metadata": {
    "colab": {},
    "colab_type": "code",
    "id": "WG9dlTJK3ezP"
   },
   "outputs": [],
   "source": [
    "# Construct string\n",
    "s1 = 'single quote' # use single quotes\n",
    "print(type(s1)) # class 'str'\n",
    "\n",
    "s2= \"double quote\" # use double quotes \n",
    "print(type(s2)) # class 'str'"
   ]
  },
  {
   "cell_type": "code",
   "execution_count": 0,
   "metadata": {
    "colab": {},
    "colab_type": "code",
    "id": "4bf6xxZH4UdO"
   },
   "outputs": [],
   "source": [
    "# String concatenation\n",
    "s3 = s1 + ' and ' + s2 # string concatenation\n",
    "print(s3)"
   ]
  },
  {
   "cell_type": "code",
   "execution_count": 0,
   "metadata": {
    "colab": {},
    "colab_type": "code",
    "id": "BKDrh0Ig4gbp"
   },
   "outputs": [],
   "source": [
    "# String useful functions\n",
    "print('Caplitalize the string: ' + s3.capitalize()) # Caplitalize the string \n",
    "print('Uppercase the string: ' + s3.upper()) # Uppercase the string\n",
    "print('\\'o\\' occurrences: ' + str(s3.count('o'))) # Count the occurrences of a character\n",
    "print('first \\'te\\' index: ' + str(s3.index('te'))) # The lowest index of the occurrence"
   ]
  },
  {
   "cell_type": "code",
   "execution_count": 0,
   "metadata": {
    "colab": {},
    "colab_type": "code",
    "id": "Z4K1QPkjHp1V"
   },
   "outputs": [],
   "source": [
    "print(s3[1]) # string indexing"
   ]
  },
  {
   "cell_type": "code",
   "execution_count": 0,
   "metadata": {
    "colab": {},
    "colab_type": "code",
    "id": "GmL2VmQ1wXSU"
   },
   "outputs": [],
   "source": [
    "# (Advanced)Tripe Quotes\n",
    "s = '''\n",
    "You can specify multi-line string.\n",
    "This is an example.\n",
    "'''\n",
    "\n",
    "print(s)"
   ]
  },
  {
   "cell_type": "code",
   "execution_count": 0,
   "metadata": {
    "colab": {},
    "colab_type": "code",
    "id": "2EuaB5F9-3xq"
   },
   "outputs": [],
   "source": [
    "# (Advanced)String format\n",
    "s = \"{} is handsome, but {} is not\"\n",
    "print(s.format('Rayman', 'Jason'))\n",
    "\n",
    "s = \"{1} is handsome, but {0} is not\"\n",
    "print(s.format('Jason', 'Rayman'))\n",
    "\n",
    "s = \"{name1} is handsome, but {name2} is not\"\n",
    "print(s.format(name2 = 1, name1 = 'Rayman'))\n",
    "\n",
    "name1 = 'Rayman'\n",
    "name2 = 'Jason'\n",
    "s = f\"{name1} is handsome, but {name2} is not\"\n",
    "print(s)"
   ]
  },
  {
   "cell_type": "markdown",
   "metadata": {
    "colab_type": "text",
    "id": "fVZFfT125LdY"
   },
   "source": [
    "### **List**\n",
    "\n",
    "\n",
    "List is mutable type\n"
   ]
  },
  {
   "cell_type": "code",
   "execution_count": 0,
   "metadata": {
    "colab": {},
    "colab_type": "code",
    "id": "5HaYG0YV0Ll_"
   },
   "outputs": [],
   "source": [
    "lst1 = [] # initialize an empty list\n",
    "print(type(lst1)) # class 'List'\n",
    "\n",
    "lst2 = [1, 2, 3, 4] # create a list with same data type values\n",
    "print(lst2)\n",
    "\n",
    "lst3 = ['one', 2, 'three', 4] # create a list with different data type values\n",
    "print(lst3)\n"
   ]
  },
  {
   "cell_type": "code",
   "execution_count": 0,
   "metadata": {
    "colab": {},
    "colab_type": "code",
    "id": "IUdkO-VZ3bq-"
   },
   "outputs": [],
   "source": [
    "lst2.append(5) # append a new element to end of the list\n",
    "print(lst2)\n",
    "\n",
    "lst2.pop(3) # remove the 4th element of the list\n",
    "print(lst2)\n",
    "\n",
    "lst2[2] = 100 # list is mutable\n",
    "print(lst2)"
   ]
  },
  {
   "cell_type": "code",
   "execution_count": 0,
   "metadata": {
    "colab": {},
    "colab_type": "code",
    "id": "QjQZR_ST5hN_"
   },
   "outputs": [],
   "source": [
    "print(lst2[0]) # list indexing\n",
    "print(lst2[-1]) # negative index, access from end of list\n",
    "print(len(lst2)) # the length of list\n",
    "print(lst2 + lst3) # list concatenation"
   ]
  },
  {
   "cell_type": "markdown",
   "metadata": {
    "colab_type": "text",
    "id": "s4aKfipipd4g"
   },
   "source": [
    "**Slicing**"
   ]
  },
  {
   "cell_type": "code",
   "execution_count": 0,
   "metadata": {
    "colab": {},
    "colab_type": "code",
    "id": "VrVGJGgC58wC"
   },
   "outputs": [],
   "source": [
    "lst = range(6) # create an list of numbers using built-in function range\n",
    "print(type(lst)) # class 'range'\n",
    "\n",
    "lst = list(lst) # change to list\n",
    "print(type(lst)) # class 'list'\n",
    "\n",
    "# [start(inclusive) : end(exclusive) : step]\n",
    "\n",
    "print(lst) # [0, 1, 2, 3, 4, 5]\n",
    "print(lst[0:6]) # index from 0 to 5, [0, 1, 2, 3, 4, 5]\n",
    "print(lst[1:]) # index from 1 to the end, [1, 2, 3, 4, 5]\n",
    "print(lst[:4]) # index from start to 4, [0, 1, 2, 3]\n",
    "print(lst[:]) # the whole list, [0, 1, 2, 3, 4, 5]\n",
    "print(lst[:-1]) # negative index slicing, [0, 1, 2, 3, 4]\n",
    "print(lst[-1:]) # negative index slicing, [5]\n",
    "print(lst[::2]) # change index step to 2, [0, 2, 4]\n",
    "print(lst[::-1]) # reverse order, [5, 4, 3, 2, 1, 0], common usage\n",
    "\n",
    "lst[2:4] = [3, 2] # modify the values by slicing\n",
    "print(lst) # [0, 1, 3, 2, 4, 5]"
   ]
  },
  {
   "cell_type": "code",
   "execution_count": 0,
   "metadata": {
    "colab": {},
    "colab_type": "code",
    "id": "LhPFpTqlCrhZ"
   },
   "outputs": [],
   "source": [
    "print(lst)\n",
    "print(lst[:-1]) # negative index slicing, [0, 1, 2, 3, 4]\n",
    "print(lst[-1:]) # negative index slicing, [5]"
   ]
  },
  {
   "cell_type": "code",
   "execution_count": 0,
   "metadata": {
    "colab": {},
    "colab_type": "code",
    "id": "juiCN6yIEWO6"
   },
   "outputs": [],
   "source": [
    "print(lst[0:7]) #index from 0 to 5, [0, 1, 2, 3, 4, 5]"
   ]
  },
  {
   "cell_type": "code",
   "execution_count": 0,
   "metadata": {
    "colab": {},
    "colab_type": "code",
    "id": "AB4kHoZ5-Quo"
   },
   "outputs": [],
   "source": [
    "ss = 'Hello World!' # initialize a string\n",
    "print(ss)\n",
    "\n",
    "print(ss[:]) # the whole list\n",
    "print(ss[1:3]) # index from 1 to 2"
   ]
  },
  {
   "cell_type": "markdown",
   "metadata": {
    "colab_type": "text",
    "id": "AdJn4-B9Sg29"
   },
   "source": [
    "### **Tuple**\n",
    "\n",
    "A tuple is an (immutable) ordered list of values. A tuple is in many ways similar to a list; one of the most important differences is that tuples can be used as keys in dictionaries and as elements of sets, while lists cannot."
   ]
  },
  {
   "cell_type": "code",
   "execution_count": 0,
   "metadata": {
    "colab": {},
    "colab_type": "code",
    "id": "wKb15o_EgGew"
   },
   "outputs": [],
   "source": [
    "t = (21, 42) # create a tuple\n",
    "print(type(t))"
   ]
  },
  {
   "cell_type": "markdown",
   "metadata": {
    "colab_type": "text",
    "id": "SAAZ2d7CpUJO"
   },
   "source": [
    "### **Dictionary**\n",
    "\n",
    "{key: value} \n",
    "\n",
    "key-value pairs"
   ]
  },
  {
   "cell_type": "code",
   "execution_count": 0,
   "metadata": {
    "colab": {},
    "colab_type": "code",
    "id": "Ugbee1XSHcrQ"
   },
   "outputs": [],
   "source": [
    "skills = ['ML', 'Stat', 'Coding', 'Business']\n",
    "scores = [90, 80, 1, 59]\n",
    "\n",
    "print(scores[skills.index('Coding')])\n",
    "\n",
    "score_dict = {'ML': 90, 'Stat': 80, 'Coding': 1, 'Business': 59} # create a dictionary\n",
    "print(score_dict['ML']) # get ML score\n",
    "print('Stat' in score_dict) # check if 'Stat' in the dictionary\n",
    "\n",
    "score_dict['Spark'] = 70 # Add a new key-value pair to the dictionary\n",
    "print(score_dict['Spark'])\n",
    "\n",
    "print(\"current score: %d\" % score_dict['Coding'])\n",
    "score_dict['Coding'] = 100 # Modify the existing value in the dictionary\n",
    "print(\"afterwards: \" + str(score_dict['Coding']))\n",
    "\n",
    "score_dict.pop('Spark')"
   ]
  },
  {
   "cell_type": "markdown",
   "metadata": {
    "colab_type": "text",
    "id": "eqk3BHjRSbU1"
   },
   "source": [
    "### **Set**\n",
    "\n",
    "A set is an unordered collection of *distinct* elements. "
   ]
  },
  {
   "cell_type": "code",
   "execution_count": 0,
   "metadata": {
    "colab": {},
    "colab_type": "code",
    "id": "oK4rUVUMUZGe"
   },
   "outputs": [],
   "source": [
    "skills = {'ML', 'Stat', 'Coding', 'Business'}\n",
    "skills_list = ['ML', 'Stat', 'Coding', 'Business']\n",
    "\n",
    "print('Business' in skills) # check if an element is in a set\n",
    "print('Spark' in skills_list) # False\n",
    "\n",
    "skills.add('Spark') # add an element\n",
    "print(skills)\n",
    "skills.remove('Spark') # remove an element\n",
    "print(skills)"
   ]
  },
  {
   "cell_type": "markdown",
   "metadata": {
    "colab_type": "text",
    "id": "lz14OcSJhpCK"
   },
   "source": [
    "## Numpy\n",
    "\n",
    "NumPy is the fundamental package for scientific computing in Python. It is a Python library that provides a multidimensional array object, various derived objects (such as masked arrays and matrices), and an assortment of routines for fast operations on arrays.\n",
    "\n",
    "At the core of the NumPy package, is the ndarray object. This encapsulates n-dimensional arrays of homogeneous data types, with many operations being performed in compiled code for performance. \n"
   ]
  },
  {
   "cell_type": "code",
   "execution_count": 0,
   "metadata": {
    "colab": {},
    "colab_type": "code",
    "id": "9kG82TL4PxQu"
   },
   "outputs": [],
   "source": [
    "[1,2,3] + [4,5,6]\n",
    "if list: [1,2,3,4,5,6]\n",
    "if array: [5,7,9]"
   ]
  },
  {
   "cell_type": "markdown",
   "metadata": {
    "colab_type": "text",
    "id": "vMQbELzw-Z9u"
   },
   "source": [
    "**Arrays**"
   ]
  },
  {
   "cell_type": "code",
   "execution_count": 0,
   "metadata": {
    "colab": {},
    "colab_type": "code",
    "id": "Op4nNL_B-efZ"
   },
   "outputs": [],
   "source": [
    "lst = [[1, 2, 3], [4, 5, 6]] # 2x3\n",
    "a = np.array(lst) # create array from lists\n",
    "print(type(a)) # class 'numpy.ndarray'\n",
    "print(a)\n",
    "print(a[0]) # first row\n",
    "print(a[0][1]) # first row, second column\n",
    "print(a.shape) # 2 x 3\n",
    "print(a.ndim) # 2 dimensions\n",
    "print(a.dtype) # data type of the elements of array\n",
    "print(a.size) # total number of elements in the matrix"
   ]
  },
  {
   "cell_type": "code",
   "execution_count": 0,
   "metadata": {
    "colab": {},
    "colab_type": "code",
    "id": "9ryDCfxSFdEp"
   },
   "outputs": [],
   "source": [
    "# useful functions to create numpy array\n",
    "b = np.arange(0, 10, 2, dtype='float') # create 1d array, [start, stop)\n",
    "print(type(b)) # class 'numpy.ndarray'\n",
    "print(b)\n",
    "print(b.shape)\n",
    "\n",
    "c = np.linspace(1.5, 2.5, 9) # create 1d array with float, [start, stop]\n",
    "print(type(c)) # class 'numpy.ndarray'\n",
    "print(c)\n",
    "print(c.shape)\n",
    "\n",
    "d = np.zeros((2, 3)) # all zeros\n",
    "print(type(d)) # class 'numpy.ndarray'\n",
    "print(d)\n",
    "\n",
    "e = np.ones((2, 3)) # all ones\n",
    "print(type(e)) # class 'numpy.ndarray'\n",
    "print(e)\n",
    "\n",
    "f = np.full((2, 3), 9) # constant matrix\n",
    "print(type(f)) # class 'numpy.ndarray'\n",
    "print(f)\n",
    "\n",
    "g = np.eye(3) # 3 x 3 identity matrix\n",
    "print(type(g)) # class 'numpy.ndarray'\n",
    "print(g)"
   ]
  },
  {
   "cell_type": "code",
   "execution_count": 0,
   "metadata": {
    "colab": {},
    "colab_type": "code",
    "id": "alXll15QFhZj"
   },
   "outputs": [],
   "source": [
    "# reshape\n",
    "h = b.reshape((5, 1))\n",
    "print(h.shape)\n",
    "\n",
    "# One shape dimension can be -1. \n",
    "# In this case, the value is inferred from the length of the array and remaining dimensions.\n",
    "i = c.reshape((-1, 3))\n",
    "print(i)\n",
    "print(i.shape)\n",
    "\n",
    "j = d.reshape((2, 3, 1))\n",
    "print(j)\n",
    "print(j.shape)"
   ]
  },
  {
   "cell_type": "markdown",
   "metadata": {
    "colab_type": "text",
    "id": "pAkR5CmFMBQJ"
   },
   "source": [
    "**Indexing and Slicing**"
   ]
  },
  {
   "cell_type": "code",
   "execution_count": 0,
   "metadata": {
    "colab": {},
    "colab_type": "code",
    "id": "OH23HeknMHZF"
   },
   "outputs": [],
   "source": [
    "a = np.array([[1,2,3,4], [5,6,7,8], [9,10,11,12]])\n",
    "\n",
    "# Use slicing to pull out the subarray consisting of the first 2 rows\n",
    "# and columns 1 and 2; b is the following array of shape (2, 2):\n",
    "# [[2 3]\n",
    "#  [6 7]]\n",
    "b = a[:2, 1:3]\n",
    "print(b)\n",
    "print(a[1]) # access a row\n",
    "print(a[:, 1:2]) # access a col\n",
    "print(a[1, 1]) # access single value"
   ]
  },
  {
   "cell_type": "code",
   "execution_count": 0,
   "metadata": {
    "colab": {},
    "colab_type": "code",
    "id": "q6GF1-SsH5qZ"
   },
   "outputs": [],
   "source": [
    "a = np.array([[1,2,3,4], [5,6,7,8], [9,10,11,12]])\n",
    "\n",
    "# (Advanced)Two ways of accessing the data in the middle row of the array.\n",
    "# Mixing integer indexing with slices yields an array of lower rank,\n",
    "# while using only slices yields an array of the same rank as the\n",
    "# original array:\n",
    "r1 = a[0, :] # rank 1 view of the first row\n",
    "r2 = a[0:1, :] # rank 2 view of the first row \n",
    "print(r1, r1.shape)\n",
    "print(r2, r2.shape)\n",
    "\n",
    "r1 = r1.reshape(-1, r1.shape[0])\n",
    "print(r1, r1.shape)"
   ]
  },
  {
   "cell_type": "code",
   "execution_count": 0,
   "metadata": {
    "colab": {},
    "colab_type": "code",
    "id": "zMANS-DrSzRw"
   },
   "outputs": [],
   "source": [
    "# boolean masking\n",
    "import numpy as np\n",
    "\n",
    "a = np.array([[1,2,3,4], [5,6,7,8], [9,10,11,12]])\n",
    "\n",
    "a_idx1 = (a < 5) # return the boolean array that satisfies the conidtion\n",
    "print(a_idx1)\n",
    "a_idx2 = (a >=5) & (a <= 10) # return the boolean array that satisfies the conidtion\n",
    "print(a_idx2)\n",
    "\n",
    "print(a[a_idx1]) # return the corresponding array\n",
    "print(a[a_idx2]) # return the corresponding array\n",
    "\n",
    "print(a[(a > 5) & (a < 10)]) # single statement\n"
   ]
  },
  {
   "cell_type": "markdown",
   "metadata": {
    "colab_type": "text",
    "id": "8PATvmrlHWBE"
   },
   "source": [
    "**Math**"
   ]
  },
  {
   "cell_type": "code",
   "execution_count": 0,
   "metadata": {
    "colab": {},
    "colab_type": "code",
    "id": "TxaGALTuHYjN"
   },
   "outputs": [],
   "source": [
    "import numpy as np\n",
    "\n",
    "a = np.array([[10, 11, 12], [13, 14, 15]])\n",
    "print(a.shape)\n",
    "print(a)\n",
    "b = np.arange(1, 7).reshape((2, 3))\n",
    "print(b.shape)\n",
    "print(b)\n",
    "\n",
    "# element-wise calculation:\n",
    "print(a + b)\n",
    "print(a - b)\n",
    "print(np.add(a, b))\n",
    "print(a * b)\n",
    "\n",
    "# Matrix product\n",
    "print(np.dot(a, b.transpose())) # 2x3, 3x2\n",
    "print(a.T.dot(b)) # 3x2, 2x3"
   ]
  },
  {
   "cell_type": "code",
   "execution_count": 0,
   "metadata": {
    "colab": {},
    "colab_type": "code",
    "id": "aJIPk9NxLSdE"
   },
   "outputs": [],
   "source": [
    "# matrix transpose 转置\n",
    "b.T\n",
    "b.transpose()"
   ]
  },
  {
   "cell_type": "code",
   "execution_count": 0,
   "metadata": {
    "colab": {},
    "colab_type": "code",
    "id": "bk4CLmb_Mqjv"
   },
   "outputs": [],
   "source": [
    "# Matrix multiplication\n",
    "#print(a, a.shape)\n",
    "#print(b, b.shape)\n",
    "# axb dot b*c -> axc\n",
    "# 2x3 dot 3x2 -> 2x2\n",
    "# 3x2 dot 2x3 -> 3x3\n",
    "print(a.T, a.T.shape)\n",
    "print(b, b.shape)\n",
    "\n",
    "print(a.T.dot(b))"
   ]
  },
  {
   "cell_type": "code",
   "execution_count": 0,
   "metadata": {
    "colab": {},
    "colab_type": "code",
    "id": "jDciF7luJkvd"
   },
   "outputs": [],
   "source": [
    "# calculation along row or column index, calculate by the index of the axis which is set\n",
    "# Axis 0 will act on all the ROWS in each COLUMN\n",
    "# Axis 1 will act on all the COLUMNS in each ROW\n",
    "# check this link for axis https://stackoverflow.com/questions/22149584/what-does-axis-in-pandas-mean\n",
    "print(np.sum(a, axis = 0)) # the column is fixed, act along row for this column\n",
    "print(np.sum(a, axis = 1)) # the row    is fixed, act along column for this row"
   ]
  },
  {
   "cell_type": "markdown",
   "metadata": {
    "colab_type": "text",
    "id": "OEHlKGFIHDGh"
   },
   "source": [
    "Read more for [broadcasting](https://docs.scipy.org/doc/numpy-1.15.0/user/basics.broadcasting.html)"
   ]
  },
  {
   "cell_type": "code",
   "execution_count": 0,
   "metadata": {
    "colab": {},
    "colab_type": "code",
    "id": "Pv_KQJGzK1jF"
   },
   "outputs": [],
   "source": [
    "# (Advanced+)broadcasting\n",
    "\n",
    "import numpy as np\n",
    "\n",
    "a = np.array([[10, 11, 12], [13, 14, 15]]) # 2x3\n",
    "print(a)\n",
    "\n",
    "a += 1 # add 1 to all the elements # 1\n",
    "print(a)\n",
    "\n",
    "a += np.array([-1, -2, -3]) # add [-1, -2, -3] to all columns for each row # 3\n",
    "print(a)\n",
    "\n",
    "a += np.array([[-1], [-2]]) # add [[-1], [-2]] to all rows for each column 2x1\n",
    "print(a)"
   ]
  },
  {
   "cell_type": "code",
   "execution_count": 0,
   "metadata": {
    "colab": {},
    "colab_type": "code",
    "id": "0FL4pjhLWt-L"
   },
   "outputs": [],
   "source": [
    "import numpy as np\n",
    "\n",
    "# Two dimensions are compatible when\n",
    "# they are equal, or\n",
    "# one of them is 1\n",
    "a = np.array([1, 2, 3]) # 1x3\n",
    "b = np.array([[4], [5], [6]]) # 3x1"
   ]
  },
  {
   "cell_type": "markdown",
   "metadata": {
    "colab_type": "text",
    "id": "X_3CwBxJX2sr"
   },
   "source": [
    "**Random**"
   ]
  },
  {
   "cell_type": "code",
   "execution_count": 0,
   "metadata": {
    "colab": {},
    "colab_type": "code",
    "id": "CRoLZLBUX6HZ"
   },
   "outputs": [],
   "source": [
    "# generate random number\n",
    "print(np.random.rand(2,2)) # Random numbers between [0,1) of shape 2,2\n",
    "print(np.random.randn(2,2)) # Normal distribution with mean=0 and variance=1 of shape 2,2\n",
    "print(np.random.randint(0, 10, size=[2,2])) # Random integers between [0, 10) of shape 2,2\n",
    "print(np.random.random()) # One random number between [0,1)\n",
    "print(np.random.random(size=[2,2])) # Random numbers between [0,1) of shape 2,2\n",
    "print(np.random.choice(['a', 'e', 'i', 'o', 'u'], size=10)) # Pick 10 items from a given list, with equal probability\n",
    "print(np.random.choice(['a', 'e', 'i', 'o', 'u'], size=10, p=[0.3, .1, 0.1, 0.4, 0.1])) # Pick 10 items from a given list with a predefined probability 'p'\n",
    "print(np.random.choice(np.arange(100),size=[10,3],replace=True)) # get 10x3 random samples from [0-99] with replacement "
   ]
  },
  {
   "cell_type": "code",
   "execution_count": 0,
   "metadata": {
    "colab": {},
    "colab_type": "code",
    "id": "G40xA9H-ZADV"
   },
   "outputs": [],
   "source": [
    "#(Advanced) use random generator to do train/test split\n",
    "\n",
    "url=\"https://gist.githubusercontent.com/curran/a08a1080b88344b0c8a7/raw/d546eaee765268bf2f487608c537c05e22e4b221/iris.csv\"\n",
    "iris = pd.read_csv(url)\n",
    "print(iris.head())\n",
    "print(iris.info())\n",
    "\n",
    "# Split data into training and testing\n",
    "iris_idx = np.arange(iris.shape[0])\n",
    "\n",
    "num_training = int(np.floor(0.75 * iris.shape[0]))\n",
    "iris_train_idx = np.random.choice(iris_idx, size=num_training, replace=False)\n",
    "iris_test_idx = np.delete(iris_idx, iris_train_idx)\n",
    "iris_train = iris.iloc[iris_train_idx]\n",
    "iris_test = iris.iloc[iris_test_idx]\n",
    "\n",
    "print(iris_train.info())\n",
    "print(iris_test.info())\n"
   ]
  },
  {
   "cell_type": "code",
   "execution_count": 0,
   "metadata": {
    "colab": {},
    "colab_type": "code",
    "id": "Wjib7gOJdcrH"
   },
   "outputs": [],
   "source": [
    "# (Advanced)use np.random.shuffle\n",
    "iris_idx = np.arange(iris.shape[0])\n",
    "np.random.shuffle(iris_idx)\n",
    "iris.index = iris_idx\n",
    "num_training = int(np.floor(0.75 * iris.shape[0]))\n",
    "iris_train = iris.iloc[:num_training]\n",
    "iris_test = iris.iloc[num_training:]\n",
    "\n",
    "print(iris_train.info())\n",
    "print(iris_test.info())\n"
   ]
  },
  {
   "cell_type": "code",
   "execution_count": 0,
   "metadata": {
    "colab": {},
    "colab_type": "code",
    "id": "yn_LjwBCeR2D"
   },
   "outputs": [],
   "source": [
    "# (Advanced)use sklearn to spilt data\n",
    "from sklearn.model_selection import train_test_split\n",
    "\n",
    "X = iris.drop('species', axis = 1)\n",
    "y = iris['species']\n",
    "\n",
    "X_train, X_test, y_train, y_test = train_test_split(X, y, test_size=0.25)\n",
    "\n",
    "print(X_train.info())"
   ]
  },
  {
   "cell_type": "code",
   "execution_count": 0,
   "metadata": {
    "colab": {},
    "colab_type": "code",
    "id": "LPF-H2dzKBog"
   },
   "outputs": [],
   "source": [
    "#(Advanced) A random seed (random_state)\n",
    "# random.seed() is a number (or vector) used to initialize a pseudorandom number generator.\n",
    "# generate the deterministic random data \n",
    "np.random.seed(1)"
   ]
  }
 ],
 "metadata": {
  "colab": {
   "collapsed_sections": [],
   "name": "Data Manipulation in Python I.ipynb",
   "private_outputs": true,
   "provenance": [
    {
     "file_id": "1Y1bO0QZrKbk0CQih9rNjtL8ntYkMXj1A",
     "timestamp": 1545212779361
    }
   ]
  },
  "kernelspec": {
   "display_name": "Python 3",
   "language": "python",
   "name": "python3"
  },
  "language_info": {
   "codemirror_mode": {
    "name": "ipython",
    "version": 3
   },
   "file_extension": ".py",
   "mimetype": "text/x-python",
   "name": "python",
   "nbconvert_exporter": "python",
   "pygments_lexer": "ipython3",
   "version": "3.7.2"
  }
 },
 "nbformat": 4,
 "nbformat_minor": 1
}
